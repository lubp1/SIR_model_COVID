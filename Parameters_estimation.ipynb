{
 "cells": [
  {
   "cell_type": "code",
   "execution_count": 2,
   "metadata": {},
   "outputs": [],
   "source": [
    "import numpy as np\n",
    "import matplotlib.pyplot as plt\n",
    "import csv"
   ]
  },
  {
   "cell_type": "markdown",
   "metadata": {},
   "source": [
    "Finding out what is the total population number M, and the total number of infected people per day:"
   ]
  },
  {
   "cell_type": "code",
   "execution_count": 109,
   "metadata": {},
   "outputs": [
    {
     "name": "stdout",
     "output_type": "stream",
     "text": [
      "M = 210147125\n",
      "t = [ 0  1  2  3  4  5  6  7  8  9 10 11 12 13 14 15 16 17 18 19 20 21 22 23\n",
      " 24 25 26 27 28 29 30 31 32 33 34 35 36 37 38 39 40 41 42 43 44 45 46 47\n",
      " 48 49 50 51 52 53 54 55 56 57 58 59 60 61 62 63 64 65 66 67 68 69 70]\n",
      "i = [1.00000e+00 1.00000e+00 1.00000e+00 2.00000e+00 2.00000e+00 2.00000e+00\n",
      " 2.00000e+00 3.00000e+00 8.00000e+00 1.30000e+01 1.90000e+01 2.40000e+01\n",
      " 2.90000e+01 3.40000e+01 5.40000e+01 9.00000e+01 1.09000e+02 1.45000e+02\n",
      " 2.26000e+02 2.96000e+02 3.50000e+02 5.29000e+02 6.49000e+02 9.86000e+02\n",
      " 1.20400e+03 1.61200e+03 1.96000e+03 2.25500e+03 2.54900e+03 2.98900e+03\n",
      " 3.47600e+03 3.93100e+03 4.32000e+03 4.66200e+03 5.83200e+03 6.92700e+03\n",
      " 8.08600e+03 9.21200e+03 1.03820e+04 1.12940e+04 1.22400e+04 1.41420e+04\n",
      " 1.62420e+04 1.82560e+04 1.99450e+04 2.09920e+04 2.24560e+04 2.38670e+04\n",
      " 2.57810e+04 2.90460e+04 3.10230e+04 3.43420e+04 3.71930e+04 3.90640e+04\n",
      " 4.09120e+04 4.36310e+04 4.64110e+04 5.02830e+04 5.43230e+04 5.95510e+04\n",
      " 6.33350e+04 6.74710e+04 7.37670e+04 8.00130e+04 8.73050e+04 9.30190e+04\n",
      " 9.76600e+04 1.02205e+05 1.09154e+05 1.16455e+05 1.26890e+05]\n"
     ]
    }
   ],
   "source": [
    "with open(\"../COVID-19_Brazil/DATA/COVID-19_Brazil_CONFIRMED.csv\",'r') as csvfile:\n",
    "    reader = csv.reader(csvfile, delimiter=',')\n",
    "    M = 0\n",
    "    t = np.arange(71)\n",
    "    linecounter = 0\n",
    "    i = np.zeros(71)\n",
    "    for row in reader:\n",
    "        if linecounter > 0:\n",
    "            M += int(row[3])\n",
    "        columncounter = 0\n",
    "        while columncounter < len(row):\n",
    "            if linecounter > 0:\n",
    "                if columncounter >= 6 and columncounter <= len(row)-1:\n",
    "                    if row[columncounter] == \"NA\":\n",
    "                        row[columncounter] = row[columncounter-1]\n",
    "                    i[columncounter - 6] += int(row[columncounter])\n",
    "            columncounter +=1\n",
    "            \n",
    "        \n",
    "        linecounter += 1\n",
    "    \n",
    "    \n",
    "        \n",
    "    print(\"M =\", M)\n",
    "    print(\"t =\", t)\n",
    "    print(\"i =\", i)"
   ]
  },
  {
   "cell_type": "code",
   "execution_count": null,
   "metadata": {},
   "outputs": [],
   "source": [
    "def logistic (t, alpha, gamma):\n",
    "    "
   ]
  }
 ],
 "metadata": {
  "kernelspec": {
   "display_name": "Python 3",
   "language": "python",
   "name": "python3"
  },
  "language_info": {
   "codemirror_mode": {
    "name": "ipython",
    "version": 3
   },
   "file_extension": ".py",
   "mimetype": "text/x-python",
   "name": "python",
   "nbconvert_exporter": "python",
   "pygments_lexer": "ipython3",
   "version": "3.7.4"
  }
 },
 "nbformat": 4,
 "nbformat_minor": 2
}
